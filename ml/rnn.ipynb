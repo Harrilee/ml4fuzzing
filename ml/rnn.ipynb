{
 "cells": [
  {
   "cell_type": "code",
   "execution_count": 5,
   "id": "fc45f1de-c1a6-4562-b3a5-9db8245c3c2b",
   "metadata": {},
   "outputs": [],
   "source": [
    "import os\n",
    "import json\n",
    "import pandas as pd\n",
    "import matplotlib.pyplot as plt\n",
    "\n",
    "# PyTorch\n",
    "import torch\n",
    "import torch.nn as nn\n",
    "import torch.optim as optim\n",
    "from torch.utils.data import DataLoader, TensorDataset\n",
    "\n",
    "# Sklearn for preprocessing\n",
    "from sklearn.preprocessing import MinMaxScaler\n",
    "from sklearn.model_selection import train_test_split\n"
   ]
  },
  {
   "cell_type": "markdown",
   "id": "e1a6271d-c543-407c-bdf9-048e580a8ad2",
   "metadata": {},
   "source": [
    "# Basic RNN Model"
   ]
  },
  {
   "cell_type": "code",
   "execution_count": 6,
   "id": "9469c8df-11ad-49f4-8d5f-ffb1e2a10ce5",
   "metadata": {},
   "outputs": [],
   "source": [
    "class BasicRNN(nn.Module):\n",
    "    def __init__(self, input_size, hidden_size, output_size):\n",
    "        super(BasicRNN, self).__init__()\n",
    "        self.hidden_size = hidden_size\n",
    "        self.rnn = nn.RNN(input_size, hidden_size, batch_first=True)\n",
    "        self.fc = nn.Linear(hidden_size, output_size)\n",
    "\n",
    "    def forward(self, x):\n",
    "        out, _ = self.rnn(x)\n",
    "        out = self.fc(out[:, -1, :])  # Take the last output\n",
    "        return out\n",
    "\n",
    "input_size = 1\n",
    "hidden_size = 50\n",
    "output_size = 1\n",
    "model = BasicRNN(input_size, hidden_size, output_size)\n"
   ]
  },
  {
   "cell_type": "markdown",
   "id": "9a678280-e034-420b-b69b-9b2c8f491912",
   "metadata": {},
   "source": [
    "# Train the Model"
   ]
  },
  {
   "cell_type": "code",
   "execution_count": 7,
   "id": "52821f3c-938a-4825-a1de-9b403ee2b0c1",
   "metadata": {},
   "outputs": [],
   "source": [
    "# # Loss and optimizer\n",
    "# criterion = nn.MSELoss()\n",
    "# optimizer = optim.Adam(model.parameters(), lr=0.01)\n",
    "\n",
    "# # Training loop\n",
    "# num_epochs = 20\n",
    "# for epoch in range(num_epochs):\n",
    "#     model.train()\n",
    "#     for inputs, labels in train_loader:\n",
    "#         inputs = inputs.unsqueeze(-1)  # Add input size dimension\n",
    "#         labels = labels.unsqueeze(-1)\n",
    "\n",
    "#         # Forward pass\n",
    "#         outputs = model(inputs)\n",
    "#         loss = criterion(outputs, labels)\n",
    "\n",
    "#         # Backward pass\n",
    "#         optimizer.zero_grad()\n",
    "#         loss.backward()\n",
    "#         optimizer.step()\n",
    "\n",
    "#     print(f'Epoch [{epoch+1}/{num_epochs}], Loss: {loss.item():.4f}')\n"
   ]
  },
  {
   "cell_type": "markdown",
   "id": "93c578d7-ac98-422f-a0f2-81087e361d8c",
   "metadata": {},
   "source": [
    "# Evaluation and Visualization"
   ]
  },
  {
   "cell_type": "code",
   "execution_count": 8,
   "id": "9ec9d853-806a-4189-abbb-f2c1e73af446",
   "metadata": {},
   "outputs": [],
   "source": [
    "# model.eval()\n",
    "# with torch.no_grad():\n",
    "#     X_test_tensor = X_test_tensor.unsqueeze(-1)\n",
    "#     predictions = model(X_test_tensor)\n",
    "#     predictions = predictions.numpy()\n",
    "#     y_test = y_test_tensor.numpy()\n",
    "\n",
    "# # Plot predictions vs actual values\n",
    "# plt.plot(y_test, label='Actual')\n",
    "# plt.plot(predictions, label='Predicted')\n",
    "# plt.legend()\n",
    "# plt.show()\n"
   ]
  },
  {
   "cell_type": "code",
   "execution_count": null,
   "id": "c8ce66d0-16b1-4f65-b03e-f194197841d7",
   "metadata": {},
   "outputs": [],
   "source": []
  }
 ],
 "metadata": {
  "kernelspec": {
   "display_name": "rnn",
   "language": "python",
   "name": "rnn"
  },
  "language_info": {
   "codemirror_mode": {
    "name": "ipython",
    "version": 3
   },
   "file_extension": ".py",
   "mimetype": "text/x-python",
   "name": "python",
   "nbconvert_exporter": "python",
   "pygments_lexer": "ipython3",
   "version": "3.12.6"
  }
 },
 "nbformat": 4,
 "nbformat_minor": 5
}
